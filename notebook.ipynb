{
 "cells": [
  {
   "cell_type": "code",
   "execution_count": 1,
   "id": "55f0593c",
   "metadata": {},
   "outputs": [
    {
     "name": "stderr",
     "output_type": "stream",
     "text": [
      "c:\\Users\\gaura\\AppData\\Local\\Programs\\Python\\Python311\\Lib\\site-packages\\tqdm\\auto.py:21: TqdmWarning: IProgress not found. Please update jupyter and ipywidgets. See https://ipywidgets.readthedocs.io/en/stable/user_install.html\n",
      "  from .autonotebook import tqdm as notebook_tqdm\n"
     ]
    }
   ],
   "source": [
    "import pandas as pd\n",
    "import spacy\n",
    "from sentence_transformers import SentenceTransformer\n",
    "import umap\n",
    "import hdbscan\n",
    "from sklearn.feature_extraction.text import TfidfVectorizer\n",
    "from collections import defaultdict\n",
    "import matplotlib.pyplot as plt\n",
    "import seaborn as sns\n",
    "from keybert import KeyBERT"
   ]
  },
  {
   "cell_type": "code",
   "execution_count": 3,
   "id": "d0fd2185",
   "metadata": {},
   "outputs": [
    {
     "name": "stdout",
     "output_type": "stream",
     "text": [
      "Columns: ['videoId', 'title', 'lengthSeconds', 'keywords', 'shortDescription', 'allowRatings', 'viewCount', 'author', 'isPrivate']\n"
     ]
    }
   ],
   "source": [
    "file_path = \"Air India flight crashes in Ahmedabad India video details.csv\"  # change if needed\n",
    "df = pd.read_csv(file_path, encoding='latin1')\n",
    "\n",
    "# Check columns\n",
    "print(\"Columns:\", df.columns.tolist())\n",
    "\n",
    "# Combine useful text fields\n",
    "text_fields = [\"title\", \"keywords\", \"shortDescription\"]\n",
    "df[\"combined_text\"] = df[text_fields].fillna(\"\").agg(\". \".join, axis=1)"
   ]
  },
  {
   "cell_type": "code",
   "execution_count": 5,
   "id": "591ef844",
   "metadata": {},
   "outputs": [
    {
     "name": "stdout",
     "output_type": "stream",
     "text": [
      "Collecting en-core-web-sm==3.8.0"
     ]
    },
    {
     "name": "stderr",
     "output_type": "stream",
     "text": [
      "WARNING: Ignoring invalid distribution ~rotobuf (c:\\Users\\gaura\\AppData\\Local\\Programs\\Python\\Python311\\Lib\\site-packages)\n",
      "WARNING: Ignoring invalid distribution ~rotobuf (c:\\Users\\gaura\\AppData\\Local\\Programs\\Python\\Python311\\Lib\\site-packages)\n",
      "WARNING: Ignoring invalid distribution ~rotobuf (c:\\Users\\gaura\\AppData\\Local\\Programs\\Python\\Python311\\Lib\\site-packages)\n",
      "\n",
      "[notice] A new release of pip is available: 24.3.1 -> 25.2\n",
      "[notice] To update, run: python.exe -m pip install --upgrade pip\n"
     ]
    },
    {
     "name": "stdout",
     "output_type": "stream",
     "text": [
      "\n",
      "  Downloading https://github.com/explosion/spacy-models/releases/download/en_core_web_sm-3.8.0/en_core_web_sm-3.8.0-py3-none-any.whl (12.8 MB)\n",
      "     ---------------------------------------- 0.0/12.8 MB ? eta -:--:--\n",
      "      --------------------------------------- 0.3/12.8 MB ? eta -:--:--\n",
      "     - -------------------------------------- 0.5/12.8 MB 1.5 MB/s eta 0:00:09\n",
      "     -- ------------------------------------- 0.8/12.8 MB 1.9 MB/s eta 0:00:07\n",
      "     ---- ----------------------------------- 1.6/12.8 MB 2.1 MB/s eta 0:00:06\n",
      "     ------ --------------------------------- 2.1/12.8 MB 2.2 MB/s eta 0:00:05\n",
      "     -------- ------------------------------- 2.6/12.8 MB 2.3 MB/s eta 0:00:05\n",
      "     ---------- ----------------------------- 3.4/12.8 MB 2.5 MB/s eta 0:00:04\n",
      "     ------------- -------------------------- 4.2/12.8 MB 2.6 MB/s eta 0:00:04\n",
      "     -------------- ------------------------- 4.7/12.8 MB 2.6 MB/s eta 0:00:04\n",
      "     ---------------- ----------------------- 5.2/12.8 MB 2.7 MB/s eta 0:00:03\n",
      "     ------------------ --------------------- 6.0/12.8 MB 2.8 MB/s eta 0:00:03\n",
      "     ------------------- -------------------- 6.3/12.8 MB 2.8 MB/s eta 0:00:03\n",
      "     --------------------- ------------------ 6.8/12.8 MB 2.6 MB/s eta 0:00:03\n",
      "     ----------------------- ---------------- 7.6/12.8 MB 2.7 MB/s eta 0:00:02\n",
      "     --------------------------- ------------ 8.7/12.8 MB 2.9 MB/s eta 0:00:02\n",
      "     ---------------------------- ----------- 9.2/12.8 MB 2.8 MB/s eta 0:00:02\n",
      "     ------------------------------- -------- 10.0/12.8 MB 2.9 MB/s eta 0:00:01\n",
      "     ---------------------------------- ----- 11.0/12.8 MB 3.0 MB/s eta 0:00:01\n",
      "     ------------------------------------- -- 12.1/12.8 MB 3.1 MB/s eta 0:00:01\n",
      "     ---------------------------------------  12.6/12.8 MB 3.1 MB/s eta 0:00:01\n",
      "     ---------------------------------------- 12.8/12.8 MB 3.1 MB/s eta 0:00:00\n",
      "Installing collected packages: en-core-web-sm\n",
      "Successfully installed en-core-web-sm-3.8.0\n",
      "\u001b[38;5;2m✔ Download and installation successful\u001b[0m\n",
      "You can now load the package via spacy.load('en_core_web_sm')\n"
     ]
    }
   ],
   "source": [
    "!python -m spacy download en_core_web_sm"
   ]
  },
  {
   "cell_type": "code",
   "execution_count": 6,
   "id": "05c2f531",
   "metadata": {},
   "outputs": [
    {
     "name": "stderr",
     "output_type": "stream",
     "text": [
      "c:\\Users\\gaura\\AppData\\Local\\Programs\\Python\\Python311\\Lib\\site-packages\\spacy\\pipeline\\lemmatizer.py:188: UserWarning: [W108] The rule-based lemmatizer did not find POS annotation for one or more tokens. Check that your pipeline includes components that assign token.pos, typically 'tagger'+'attribute_ruler' or 'morphologizer'.\n",
      "  warnings.warn(Warnings.W108)\n"
     ]
    },
    {
     "name": "stdout",
     "output_type": "stream",
     "text": [
      "Total sentences extracted: 1137\n"
     ]
    }
   ],
   "source": [
    "nlp = spacy.load(\"en_core_web_sm\", disable=[\"ner\",\"tagger\"])\n",
    "\n",
    "sentences = []\n",
    "meta = []\n",
    "\n",
    "for idx, row in df.iterrows():\n",
    "    doc = nlp(row[\"combined_text\"])\n",
    "    for s in doc.sents:\n",
    "        s_text = s.text.strip()\n",
    "        if len(s_text.split()) >= 3:  # filter very short sentences\n",
    "            sentences.append(s_text)\n",
    "            meta.append({\"videoId\": row[\"videoId\"], \"title\": row[\"title\"]})\n",
    "\n",
    "print(f\"Total sentences extracted: {len(sentences)}\")"
   ]
  },
  {
   "cell_type": "code",
   "execution_count": 7,
   "id": "a50ae0d7",
   "metadata": {},
   "outputs": [
    {
     "name": "stderr",
     "output_type": "stream",
     "text": [
      "c:\\Users\\gaura\\AppData\\Local\\Programs\\Python\\Python311\\Lib\\site-packages\\huggingface_hub\\file_download.py:143: UserWarning: `huggingface_hub` cache-system uses symlinks by default to efficiently store duplicated files but your machine does not support them in C:\\Users\\gaura\\.cache\\huggingface\\hub\\models--sentence-transformers--all-mpnet-base-v2. Caching files will still work but in a degraded version that might require more space on your disk. This warning can be disabled by setting the `HF_HUB_DISABLE_SYMLINKS_WARNING` environment variable. For more details, see https://huggingface.co/docs/huggingface_hub/how-to-cache#limitations.\n",
      "To support symlinks on Windows, you either need to activate Developer Mode or to run Python as an administrator. In order to activate developer mode, see this article: https://docs.microsoft.com/en-us/windows/apps/get-started/enable-your-device-for-development\n",
      "  warnings.warn(message)\n",
      "Xet Storage is enabled for this repo, but the 'hf_xet' package is not installed. Falling back to regular HTTP download. For better performance, install the package with: `pip install huggingface_hub[hf_xet]` or `pip install hf_xet`\n",
      "Batches: 100%|██████████| 18/18 [03:50<00:00, 12.79s/it]\n"
     ]
    }
   ],
   "source": [
    "model = SentenceTransformer(\"all-mpnet-base-v2\")\n",
    "embeddings = model.encode(sentences, batch_size=64, show_progress_bar=True, normalize_embeddings=True)"
   ]
  },
  {
   "cell_type": "code",
   "execution_count": 8,
   "id": "8acff683",
   "metadata": {},
   "outputs": [],
   "source": [
    "umap_emb = umap.UMAP(n_neighbors=15, min_dist=0.0, n_components=20, metric='cosine').fit_transform(embeddings)"
   ]
  },
  {
   "cell_type": "code",
   "execution_count": 9,
   "id": "85f714b3",
   "metadata": {},
   "outputs": [
    {
     "name": "stdout",
     "output_type": "stream",
     "text": [
      "Clusters found: 64\n"
     ]
    }
   ],
   "source": [
    "clusterer = hdbscan.HDBSCAN(min_cluster_size=5, metric='euclidean', cluster_selection_method='eom')\n",
    "labels = clusterer.fit_predict(umap_emb)\n",
    "\n",
    "print(\"Clusters found:\", len(set(labels)) - (1 if -1 in labels else 0))\n"
   ]
  },
  {
   "cell_type": "code",
   "execution_count": 10,
   "id": "4602bb57",
   "metadata": {},
   "outputs": [],
   "source": [
    "df_sent = pd.DataFrame({\n",
    "    \"sentence\": sentences,\n",
    "    \"cluster\": labels,\n",
    "    \"videoId\": [m[\"videoId\"] for m in meta],\n",
    "    \"title\": [m[\"title\"] for m in meta]\n",
    "})"
   ]
  },
  {
   "cell_type": "code",
   "execution_count": 11,
   "id": "9ca151b8",
   "metadata": {},
   "outputs": [],
   "source": [
    "cluster_labels = {}\n",
    "\n",
    "# TF-IDF labeling\n",
    "for c in sorted(df_sent[\"cluster\"].unique()):\n",
    "    if c == -1:\n",
    "        continue  # skip noise\n",
    "    cluster_sents = df_sent[df_sent.cluster == c][\"sentence\"].tolist()\n",
    "    tf = TfidfVectorizer(stop_words='english', ngram_range=(1,2), max_features=20)\n",
    "    X = tf.fit_transform(cluster_sents)\n",
    "    top_terms = [t for t, _ in sorted(zip(tf.get_feature_names_out(), X.mean(axis=0).A1), key=lambda x: -x[1])[:5]]\n",
    "    cluster_labels[c] = top_terms"
   ]
  },
  {
   "cell_type": "code",
   "execution_count": 12,
   "id": "26ffb040",
   "metadata": {},
   "outputs": [],
   "source": [
    "df_sent[\"cluster_label\"] = df_sent[\"cluster\"].apply(lambda c: \", \".join(cluster_labels.get(c, [\"noise\"])) if c != -1 else \"noise\")"
   ]
  },
  {
   "cell_type": "code",
   "execution_count": 13,
   "id": "8f946237",
   "metadata": {},
   "outputs": [
    {
     "data": {
      "image/png": "[encoded data removed]",
      "text/plain": [
       "<Figure size 1000x800 with 1 Axes>"
      ]
     },
     "metadata": {},
     "output_type": "display_data"
    }
   ],
   "source": [
    "plt.figure(figsize=(10,8))\n",
    "sns.scatterplot(x=umap_emb[:,0], y=umap_emb[:,1], hue=labels, palette=\"tab10\", s=20, legend=False)\n",
    "plt.title(\"Sentence Clusters (UMAP + HDBSCAN)\")\n",
    "plt.show()"
   ]
  },
  {
   "cell_type": "code",
   "execution_count": 14,
   "id": "4a4fa140",
   "metadata": {},
   "outputs": [
    {
     "name": "stdout",
     "output_type": "stream",
     "text": [
      "Saved cluster assignments to sentence_clusters.csv\n"
     ]
    },
    {
     "data": {
      "text/html": [
       "<div>\n",
       "<style scoped>\n",
       "    .dataframe tbody tr th:only-of-type {\n",
       "        vertical-align: middle;\n",
       "    }\n",
       "\n",
       "    .dataframe tbody tr th {\n",
       "        vertical-align: top;\n",
       "    }\n",
       "\n",
       "    .dataframe thead th {\n",
       "        text-align: right;\n",
       "    }\n",
       "</style>\n",
       "<table border=\"1\" class=\"dataframe\">\n",
       "  <thead>\n",
       "    <tr style=\"text-align: right;\">\n",
       "      <th></th>\n",
       "      <th>sentence</th>\n",
       "      <th>cluster</th>\n",
       "      <th>videoId</th>\n",
       "      <th>title</th>\n",
       "      <th>cluster_label</th>\n",
       "    </tr>\n",
       "  </thead>\n",
       "  <tbody>\n",
       "    <tr>\n",
       "      <th>0</th>\n",
       "      <td>Air India plane crashes shortly after take off...</td>\n",
       "      <td>-1</td>\n",
       "      <td>7X5jJRx1_r0</td>\n",
       "      <td>Air India plane crashes shortly after take off...</td>\n",
       "      <td>noise</td>\n",
       "    </tr>\n",
       "    <tr>\n",
       "      <th>1</th>\n",
       "      <td>Ahmedabad airport AMD; Air India Flight AI147;...</td>\n",
       "      <td>-1</td>\n",
       "      <td>7X5jJRx1_r0</td>\n",
       "      <td>Air India plane crashes shortly after take off...</td>\n",
       "      <td>noise</td>\n",
       "    </tr>\n",
       "    <tr>\n",
       "      <th>2</th>\n",
       "      <td>An Air India plane has crashed shortly after t...</td>\n",
       "      <td>62</td>\n",
       "      <td>7X5jJRx1_r0</td>\n",
       "      <td>Air India plane crashes shortly after take off...</td>\n",
       "      <td>india, ahmedabad, crashed, air, air india</td>\n",
       "    </tr>\n",
       "    <tr>\n",
       "      <th>3</th>\n",
       "      <td>Air India said on Thursday that Flight AI171, ...</td>\n",
       "      <td>47</td>\n",
       "      <td>7X5jJRx1_r0</td>\n",
       "      <td>Air India plane crashes shortly after take off...</td>\n",
       "      <td>flight, london, gatwick, incident, london gatwick</td>\n",
       "    </tr>\n",
       "    <tr>\n",
       "      <th>4</th>\n",
       "      <td>Rebecca Bundhun joins us live from Mumbai to d...</td>\n",
       "      <td>7</td>\n",
       "      <td>7X5jJRx1_r0</td>\n",
       "      <td>Air India plane crashes shortly after take off...</td>\n",
       "      <td>stay, updates, india, latest, latest updates</td>\n",
       "    </tr>\n",
       "    <tr>\n",
       "      <th>5</th>\n",
       "      <td>Subscribe to our channel: http://bit.ly/AJSubs...</td>\n",
       "      <td>29</td>\n",
       "      <td>7X5jJRx1_r0</td>\n",
       "      <td>Air India plane crashes shortly after take off...</td>\n",
       "      <td>com, https, jagran, dainik, dainik jagran</td>\n",
       "    </tr>\n",
       "    <tr>\n",
       "      <th>6</th>\n",
       "      <td>AI147 #AirIndia147 #AhmedabadAirport #LondonGa...</td>\n",
       "      <td>27</td>\n",
       "      <td>7X5jJRx1_r0</td>\n",
       "      <td>Air India plane crashes shortly after take off...</td>\n",
       "      <td>new, boeing787, londongatwick, 242, emergencyr...</td>\n",
       "    </tr>\n",
       "    <tr>\n",
       "      <th>7</th>\n",
       "      <td>#DreamlinerCrash #AviationEmergency #FlightSaf...</td>\n",
       "      <td>28</td>\n",
       "      <td>7X5jJRx1_r0</td>\n",
       "      <td>Air India plane crashes shortly after take off...</td>\n",
       "      <td>airindia, airindiacrash, ahmedabad, breakingne...</td>\n",
       "    </tr>\n",
       "    <tr>\n",
       "      <th>8</th>\n",
       "      <td>Video shows Air India plane crashing in Ahmeda...</td>\n",
       "      <td>57</td>\n",
       "      <td>nFuLfEjvzMU</td>\n",
       "      <td>Video shows Air India plane crashing in Ahmedabad</td>\n",
       "      <td>crash, ahmedabad, india, air, air india</td>\n",
       "    </tr>\n",
       "    <tr>\n",
       "      <th>9</th>\n",
       "      <td>Airplane Crash; Plane Crash; Boeing 787; CBS N...</td>\n",
       "      <td>6</td>\n",
       "      <td>nFuLfEjvzMU</td>\n",
       "      <td>Video shows Air India plane crashing in Ahmedabad</td>\n",
       "      <td>crash, plane, plane crash, india, ahmedabad</td>\n",
       "    </tr>\n",
       "    <tr>\n",
       "      <th>10</th>\n",
       "      <td>(Warning: Video in this report may be disturbi...</td>\n",
       "      <td>24</td>\n",
       "      <td>nFuLfEjvzMU</td>\n",
       "      <td>Video shows Air India plane crashing in Ahmedabad</td>\n",
       "      <td>video, child, videos, videos visit, saying</td>\n",
       "    </tr>\n",
       "    <tr>\n",
       "      <th>11</th>\n",
       "      <td>An Air India plane carrying 242 passengers and...</td>\n",
       "      <td>62</td>\n",
       "      <td>nFuLfEjvzMU</td>\n",
       "      <td>Video shows Air India plane crashing in Ahmedabad</td>\n",
       "      <td>india, ahmedabad, crashed, air, air india</td>\n",
       "    </tr>\n",
       "    <tr>\n",
       "      <th>12</th>\n",
       "      <td>Video taken by residents shows the Boeing 787-...</td>\n",
       "      <td>-1</td>\n",
       "      <td>nFuLfEjvzMU</td>\n",
       "      <td>Video shows Air India plane crashing in Ahmedabad</td>\n",
       "      <td>noise</td>\n",
       "    </tr>\n",
       "    <tr>\n",
       "      <th>13</th>\n",
       "      <td>CBS News' Ramy Inocencio has the latest.</td>\n",
       "      <td>-1</td>\n",
       "      <td>nFuLfEjvzMU</td>\n",
       "      <td>Video shows Air India plane crashing in Ahmedabad</td>\n",
       "      <td>noise</td>\n",
       "    </tr>\n",
       "    <tr>\n",
       "      <th>14</th>\n",
       "      <td>CBS News 24/7 is the premier anchored streamin...</td>\n",
       "      <td>37</td>\n",
       "      <td>nFuLfEjvzMU</td>\n",
       "      <td>Video shows Air India plane crashing in Ahmedabad</td>\n",
       "      <td>news, republic, com, https, watch</td>\n",
       "    </tr>\n",
       "    <tr>\n",
       "      <th>15</th>\n",
       "      <td>It is available on more than 30 platforms acro...</td>\n",
       "      <td>37</td>\n",
       "      <td>nFuLfEjvzMU</td>\n",
       "      <td>Video shows Air India plane crashing in Ahmedabad</td>\n",
       "      <td>news, republic, com, https, watch</td>\n",
       "    </tr>\n",
       "    <tr>\n",
       "      <th>16</th>\n",
       "      <td>Subscribe to the CBS News YouTube channel: htt...</td>\n",
       "      <td>37</td>\n",
       "      <td>nFuLfEjvzMU</td>\n",
       "      <td>Video shows Air India plane crashing in Ahmedabad</td>\n",
       "      <td>news, republic, com, https, watch</td>\n",
       "    </tr>\n",
       "    <tr>\n",
       "      <th>17</th>\n",
       "      <td>Ahmedabad Plane Crash: What Air India Pilot's ...</td>\n",
       "      <td>44</td>\n",
       "      <td>75P3sOZLwls</td>\n",
       "      <td>Ahmedabad Plane Crash: What Air India Pilot's ...</td>\n",
       "      <td>india, ahmedabad, air, pilot, crash</td>\n",
       "    </tr>\n",
       "    <tr>\n",
       "      <th>18</th>\n",
       "      <td>| What Is A Black Box?.</td>\n",
       "      <td>46</td>\n",
       "      <td>75P3sOZLwls</td>\n",
       "      <td>Ahmedabad Plane Crash: What Air India Pilot's ...</td>\n",
       "      <td>box, black, black box, crash, india</td>\n",
       "    </tr>\n",
       "    <tr>\n",
       "      <th>19</th>\n",
       "      <td>ahmedabad plane crash; air india plane crash; ...</td>\n",
       "      <td>6</td>\n",
       "      <td>75P3sOZLwls</td>\n",
       "      <td>Ahmedabad Plane Crash: What Air India Pilot's ...</td>\n",
       "      <td>crash, plane, plane crash, india, ahmedabad</td>\n",
       "    </tr>\n",
       "  </tbody>\n",
       "</table>\n",
       "</div>"
      ],
      "text/plain": [
       "                                             sentence  cluster      videoId  \\\n",
       "0   Air India plane crashes shortly after take off...       -1  7X5jJRx1_r0   \n",
       "1   Ahmedabad airport AMD; Air India Flight AI147;...       -1  7X5jJRx1_r0   \n",
       "2   An Air India plane has crashed shortly after t...       62  7X5jJRx1_r0   \n",
       "3   Air India said on Thursday that Flight AI171, ...       47  7X5jJRx1_r0   \n",
       "4   Rebecca Bundhun joins us live from Mumbai to d...        7  7X5jJRx1_r0   \n",
       "5   Subscribe to our channel: http://bit.ly/AJSubs...       29  7X5jJRx1_r0   \n",
       "6   AI147 #AirIndia147 #AhmedabadAirport #LondonGa...       27  7X5jJRx1_r0   \n",
       "7   #DreamlinerCrash #AviationEmergency #FlightSaf...       28  7X5jJRx1_r0   \n",
       "8   Video shows Air India plane crashing in Ahmeda...       57  nFuLfEjvzMU   \n",
       "9   Airplane Crash; Plane Crash; Boeing 787; CBS N...        6  nFuLfEjvzMU   \n",
       "10  (Warning: Video in this report may be disturbi...       24  nFuLfEjvzMU   \n",
       "11  An Air India plane carrying 242 passengers and...       62  nFuLfEjvzMU   \n",
       "12  Video taken by residents shows the Boeing 787-...       -1  nFuLfEjvzMU   \n",
       "13           CBS News' Ramy Inocencio has the latest.       -1  nFuLfEjvzMU   \n",
       "14  CBS News 24/7 is the premier anchored streamin...       37  nFuLfEjvzMU   \n",
       "15  It is available on more than 30 platforms acro...       37  nFuLfEjvzMU   \n",
       "16  Subscribe to the CBS News YouTube channel: htt...       37  nFuLfEjvzMU   \n",
       "17  Ahmedabad Plane Crash: What Air India Pilot's ...       44  75P3sOZLwls   \n",
       "18                            | What Is A Black Box?.       46  75P3sOZLwls   \n",
       "19  ahmedabad plane crash; air india plane crash; ...        6  75P3sOZLwls   \n",
       "\n",
       "                                                title  \\\n",
       "0   Air India plane crashes shortly after take off...   \n",
       "1   Air India plane crashes shortly after take off...   \n",
       "2   Air India plane crashes shortly after take off...   \n",
       "3   Air India plane crashes shortly after take off...   \n",
       "4   Air India plane crashes shortly after take off...   \n",
       "5   Air India plane crashes shortly after take off...   \n",
       "6   Air India plane crashes shortly after take off...   \n",
       "7   Air India plane crashes shortly after take off...   \n",
       "8   Video shows Air India plane crashing in Ahmedabad   \n",
       "9   Video shows Air India plane crashing in Ahmedabad   \n",
       "10  Video shows Air India plane crashing in Ahmedabad   \n",
       "11  Video shows Air India plane crashing in Ahmedabad   \n",
       "12  Video shows Air India plane crashing in Ahmedabad   \n",
       "13  Video shows Air India plane crashing in Ahmedabad   \n",
       "14  Video shows Air India plane crashing in Ahmedabad   \n",
       "15  Video shows Air India plane crashing in Ahmedabad   \n",
       "16  Video shows Air India plane crashing in Ahmedabad   \n",
       "17  Ahmedabad Plane Crash: What Air India Pilot's ...   \n",
       "18  Ahmedabad Plane Crash: What Air India Pilot's ...   \n",
       "19  Ahmedabad Plane Crash: What Air India Pilot's ...   \n",
       "\n",
       "                                        cluster_label  \n",
       "0                                               noise  \n",
       "1                                               noise  \n",
       "2           india, ahmedabad, crashed, air, air india  \n",
       "3   flight, london, gatwick, incident, london gatwick  \n",
       "4        stay, updates, india, latest, latest updates  \n",
       "5           com, https, jagran, dainik, dainik jagran  \n",
       "6   new, boeing787, londongatwick, 242, emergencyr...  \n",
       "7   airindia, airindiacrash, ahmedabad, breakingne...  \n",
       "8             crash, ahmedabad, india, air, air india  \n",
       "9         crash, plane, plane crash, india, ahmedabad  \n",
       "10         video, child, videos, videos visit, saying  \n",
       "11          india, ahmedabad, crashed, air, air india  \n",
       "12                                              noise  \n",
       "13                                              noise  \n",
       "14                  news, republic, com, https, watch  \n",
       "15                  news, republic, com, https, watch  \n",
       "16                  news, republic, com, https, watch  \n",
       "17                india, ahmedabad, air, pilot, crash  \n",
       "18                box, black, black box, crash, india  \n",
       "19        crash, plane, plane crash, india, ahmedabad  "
      ]
     },
     "execution_count": 14,
     "metadata": {},
     "output_type": "execute_result"
    }
   ],
   "source": [
    "df_sent.to_csv(\"sentence_clusters.csv\", index=False)\n",
    "print(\"Saved cluster assignments to sentence_clusters.csv\")\n",
    "\n",
    "# Sample output\n",
    "df_sent.head(20)"
   ]
  }
 ],
 "metadata": {
  "kernelspec": {
   "display_name": "Python 3",
   "language": "python",
   "name": "python3"
  },
  "language_info": {
   "codemirror_mode": {
    "name": "ipython",
    "version": 3
   },
   "file_extension": ".py",
   "mimetype": "text/x-python",
   "name": "python",
   "nbconvert_exporter": "python",
   "pygments_lexer": "ipython3",
   "version": "3.11.2"
  }
 },
 "nbformat": 4,
 "nbformat_minor": 5
}
